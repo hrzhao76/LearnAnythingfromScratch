{
 "cells": [
  {
   "cell_type": "code",
   "execution_count": 8,
   "metadata": {},
   "outputs": [
    {
     "name": "stdout",
     "output_type": "stream",
     "text": [
      "0.612\n"
     ]
    }
   ],
   "source": [
    "import math\n",
    "\n",
    "n = int(input())\n",
    "\n",
    "x_s = list(map(float, input().rstrip().split()))\n",
    "y_s = list(map(float, input().rstrip().split()))\n",
    "\n",
    "mean_x = sum(x_s) / n\n",
    "mean_y = sum(y_s) / n\n",
    "\n",
    "std_x = math.sqrt(sum((x - mean_x)**2 for x in x_s) / n)\n",
    "std_y = math.sqrt(sum((y - mean_y)**2 for y in y_s) / n)\n",
    "\n",
    "# print(mean_x, mean_y)\n",
    "# print(std_x, std_y)\n",
    "\n",
    "_sum = 0\n",
    "for i in range(n):\n",
    "    _sum += (x_s[i] - mean_x) * (y_s[i] - mean_y)\n",
    "    \n",
    "pearson_coefficient = _sum / (n * std_x * std_y)\n",
    "print(f'{pearson_coefficient:.3f}')"
   ]
  },
  {
   "cell_type": "code",
   "execution_count": null,
   "metadata": {},
   "outputs": [],
   "source": []
  }
 ],
 "metadata": {
  "kernelspec": {
   "display_name": "Python 3",
   "language": "python",
   "name": "python3"
  },
  "language_info": {
   "codemirror_mode": {
    "name": "ipython",
    "version": 3
   },
   "file_extension": ".py",
   "mimetype": "text/x-python",
   "name": "python",
   "nbconvert_exporter": "python",
   "pygments_lexer": "ipython3",
   "version": "3.10.14"
  }
 },
 "nbformat": 4,
 "nbformat_minor": 2
}
