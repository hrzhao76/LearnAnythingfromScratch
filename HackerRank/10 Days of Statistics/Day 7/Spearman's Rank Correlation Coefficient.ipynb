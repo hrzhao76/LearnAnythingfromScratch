{
 "cells": [
  {
   "cell_type": "code",
   "execution_count": null,
   "metadata": {},
   "outputs": [],
   "source": [
    "import math\n",
    "\n",
    "n = int(input())\n",
    "\n",
    "x_s = list(map(float, input().rstrip().split()))\n",
    "y_s = list(map(float, input().rstrip().split()))\n",
    "\n",
    "sorted_x_s = sorted(x_s)\n",
    "x_s_rank = [sorted_x_s.index(x) for x in x_s]\n",
    "sorted_y_s = sorted(y_s)\n",
    "y_s_rank = [sorted_y_s.index(y) for y in y_s]\n",
    "\n",
    "d_s = [x - y for x, y in zip(x_s_rank, y_s_rank)]\n",
    "\n",
    "r = 1 - 6 * sum(d**2 for d in d_s) / (n * (n**2 - 1))\n",
    "print(f'{r:.3f}')"
   ]
  }
 ],
 "metadata": {
  "kernelspec": {
   "display_name": "Python 3",
   "language": "python",
   "name": "python3"
  },
  "language_info": {
   "codemirror_mode": {
    "name": "ipython",
    "version": 3
   },
   "file_extension": ".py",
   "mimetype": "text/x-python",
   "name": "python",
   "nbconvert_exporter": "python",
   "pygments_lexer": "ipython3",
   "version": "3.10.14"
  }
 },
 "nbformat": 4,
 "nbformat_minor": 2
}
