{
 "cells": [
  {
   "cell_type": "code",
   "execution_count": null,
   "metadata": {},
   "outputs": [],
   "source": [
    "import sys\n",
    "x_s, y_s = [], []\n",
    "\n",
    "for readin in sys.stdin:\n",
    "    x, y = list(map(float, readin.strip().split()))\n",
    "    x_s.append(x)\n",
    "    y_s.append(y)\n",
    "\n",
    "n = len(x_s)\n",
    "sum_x = sum(x_s)\n",
    "sum_y = sum(y_s)\n",
    "sum_x_sqr = sum(x**2 for x in x_s)\n",
    "sum_xy = sum(x*y for x,y in zip(x_s, y_s))\n",
    "\n",
    "mean_x = sum_x / n\n",
    "mean_y = sum_y / n\n",
    "\n",
    "b = (n * sum_xy - sum_x * sum_y) / (n * sum_x_sqr - sum_x ** 2) \n",
    "a = mean_y - b * mean_x\n",
    "\n",
    "y = b * 80 + a\n",
    "print(f'{y:.3f}')\n"
   ]
  }
 ],
 "metadata": {
  "kernelspec": {
   "display_name": "Python 3",
   "language": "python",
   "name": "python3"
  },
  "language_info": {
   "codemirror_mode": {
    "name": "ipython",
    "version": 3
   },
   "file_extension": ".py",
   "mimetype": "text/x-python",
   "name": "python",
   "nbconvert_exporter": "python",
   "pygments_lexer": "ipython3",
   "version": "3.10.14"
  }
 },
 "nbformat": 4,
 "nbformat_minor": 2
}
