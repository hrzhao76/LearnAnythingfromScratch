{
 "cells": [
  {
   "cell_type": "code",
   "execution_count": null,
   "metadata": {},
   "outputs": [],
   "source": [
    "from sklearn import linear_model\n",
    "\n",
    "n_features, n_data = list(map(int, input().strip().split()))\n",
    "x, y = [], []\n",
    "\n",
    "for i in range(n_data):\n",
    "    readin = list(map(float, input().strip().split()))\n",
    "    x.append(readin[:n_features])\n",
    "    y.append(readin[n_features])\n",
    "\n",
    "n_new_data = int(input()) \n",
    "\n",
    "x_new_data = []\n",
    "for i in range(n_new_data):\n",
    "    readin = list(map(float, input().strip().split()))\n",
    "    x_new_data.append(readin[:n_features])\n",
    "    \n",
    "lm = linear_model.LinearRegression()\n",
    "lm.fit(x, y)\n",
    "\n",
    "a = lm.intercept_\n",
    "b = lm.coef_\n",
    "\n",
    "y_predicted = lm.predict(x_new_data)\n",
    "\n",
    "for y in y_predicted:\n",
    "    print(f'{y:.2f}')"
   ]
  },
  {
   "cell_type": "code",
   "execution_count": null,
   "metadata": {},
   "outputs": [],
   "source": []
  }
 ],
 "metadata": {
  "kernelspec": {
   "display_name": "Python 3",
   "language": "python",
   "name": "python3"
  },
  "language_info": {
   "codemirror_mode": {
    "name": "ipython",
    "version": 3
   },
   "file_extension": ".py",
   "mimetype": "text/x-python",
   "name": "python",
   "nbconvert_exporter": "python",
   "pygments_lexer": "ipython3",
   "version": "3.10.14"
  }
 },
 "nbformat": 4,
 "nbformat_minor": 2
}
