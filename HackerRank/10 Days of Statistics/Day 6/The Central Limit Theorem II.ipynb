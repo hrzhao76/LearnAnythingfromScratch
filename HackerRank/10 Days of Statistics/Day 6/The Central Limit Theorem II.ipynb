{
 "cells": [
  {
   "cell_type": "code",
   "execution_count": 2,
   "metadata": {},
   "outputs": [
    {
     "name": "stdout",
     "output_type": "stream",
     "text": [
      "0.3085\n"
     ]
    }
   ],
   "source": [
    "import math\n",
    "\n",
    "n_tickets = int(input().strip() or \"250\")\n",
    "n_students = int(input().strip() or \"100\")\n",
    "mean_population = float(input().strip() or \"2.4\")\n",
    "std_population = float(input().strip() or \"2.0\")\n",
    "\n",
    "mean_sample = n_students * mean_population\n",
    "std_sample = math.sqrt(n_students) * std_population\n",
    "\n",
    "prob = 0.5 * (1 + math.erf((n_tickets - mean_sample) / (math.sqrt(2) * std_sample)))\n",
    "print(f'{prob:.4f}')"
   ]
  }
 ],
 "metadata": {
  "kernelspec": {
   "display_name": "Python 3",
   "language": "python",
   "name": "python3"
  },
  "language_info": {
   "codemirror_mode": {
    "name": "ipython",
    "version": 3
   },
   "file_extension": ".py",
   "mimetype": "text/x-python",
   "name": "python",
   "nbconvert_exporter": "python",
   "pygments_lexer": "ipython3",
   "version": "3.10.14"
  }
 },
 "nbformat": 4,
 "nbformat_minor": 2
}
