{
 "cells": [
  {
   "cell_type": "code",
   "execution_count": 1,
   "metadata": {},
   "outputs": [
    {
     "name": "stdout",
     "output_type": "stream",
     "text": [
      "484.32\n",
      "515.68\n"
     ]
    }
   ],
   "source": [
    "import math\n",
    "\n",
    "n_sample = int(input().strip() or \"100\")\n",
    "mean_population = int(input().strip() or \"500\")\n",
    "std_population = int(input().strip() or \"80\") \n",
    "percentage = float(input().strip() or \"0.95\")\n",
    "z_score = float(input().strip() or \"1.96\")\n",
    "\n",
    "mean_sample = n_sample * mean_population\n",
    "std_sample = std_population / math.sqrt(n_sample)\n",
    "\n",
    "A = mean_population - z_score * std_sample\n",
    "B = mean_population + z_score * std_sample\n",
    "\n",
    "print(f'{A:.2f}')\n",
    "print(f'{B:.2f}')"
   ]
  }
 ],
 "metadata": {
  "kernelspec": {
   "display_name": "Python 3",
   "language": "python",
   "name": "python3"
  },
  "language_info": {
   "codemirror_mode": {
    "name": "ipython",
    "version": 3
   },
   "file_extension": ".py",
   "mimetype": "text/x-python",
   "name": "python",
   "nbconvert_exporter": "python",
   "pygments_lexer": "ipython3",
   "version": "3.10.14"
  }
 },
 "nbformat": 4,
 "nbformat_minor": 2
}
