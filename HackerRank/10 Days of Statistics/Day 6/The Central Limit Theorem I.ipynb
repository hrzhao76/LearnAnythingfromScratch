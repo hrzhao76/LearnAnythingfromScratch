{
 "cells": [
  {
   "cell_type": "code",
   "execution_count": 1,
   "metadata": {},
   "outputs": [
    {
     "name": "stdout",
     "output_type": "stream",
     "text": [
      " 0.0098\n"
     ]
    }
   ],
   "source": [
    "import math\n",
    "\n",
    "max_capacity = int(input().strip() or \"9800\")\n",
    "n_box = int(input().strip() or \"49\")\n",
    "m_box_mean = int(input().strip() or \"205\")\n",
    "m_box_std = int(input().strip() or \"15\")\n",
    "\n",
    "mean = n_box * m_box_mean\n",
    "std = math.sqrt(n_box) * m_box_std\n",
    "\n",
    "prob = 0.5 * (1 + math.erf((max_capacity - mean) / ( math.sqrt(2) * std)))\n",
    "\n",
    "print(f'{prob: .4f}')"
   ]
  },
  {
   "cell_type": "code",
   "execution_count": null,
   "metadata": {},
   "outputs": [],
   "source": []
  }
 ],
 "metadata": {
  "kernelspec": {
   "display_name": "Python 3",
   "language": "python",
   "name": "python3"
  },
  "language_info": {
   "codemirror_mode": {
    "name": "ipython",
    "version": 3
   },
   "file_extension": ".py",
   "mimetype": "text/x-python",
   "name": "python",
   "nbconvert_exporter": "python",
   "pygments_lexer": "ipython3",
   "version": "3.10.14"
  }
 },
 "nbformat": 4,
 "nbformat_minor": 2
}
