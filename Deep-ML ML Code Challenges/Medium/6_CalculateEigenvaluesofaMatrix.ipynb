{
 "cells": [
  {
   "cell_type": "markdown",
   "metadata": {},
   "source": [
    "### Eigenvalues and Eigenvectors\n",
    "\n",
    "The equation to find the eigenvalues (\\(\\lambda\\)) and eigenvectors (\\(X\\)) of a matrix \\(A\\) is given by:\n",
    "\n",
    "$$\n",
    "(A - \\lambda I) X = 0\n",
    "$$\n",
    "\n",
    "Where:\n",
    "- \\(A\\) is the square matrix for which we want to find eigenvalues and eigenvectors.\n",
    "- \\(\\lambda\\) (lambda) is the eigenvalue.\n",
    "- \\(I\\) is the identity matrix, of the same dimension as \\(A\\).\n",
    "- \\(X\\) is the eigenvector corresponding to the eigenvalue \\(\\lambda\\).\n",
    "\n",
    "### Steps to Solve:\n",
    "1. **Eigenvalue (\\(\\lambda\\))**: Solve the characteristic equation \\( \\det(A - \\lambda I) = 0 \\) to find \\(\\lambda\\), where \\(\\det\\) denotes the determinant.\n",
    "   \n",
    "2. **Eigenvector (\\(X\\))**: After finding the eigenvalue \\(\\lambda\\), substitute it into the equation \\( (A - \\lambda I) X = 0 \\) and solve for \\(X\\), which will give you the eigenvector corresponding to the eigenvalue \\(\\lambda\\).\n",
    "\n",
    "Eigenvalues and eigenvectors are useful in various fields such as physics, machine learning, and linear algebra to study the properties of linear transformations represented by matrix \\(A\\).\n"
   ]
  },
  {
   "cell_type": "code",
   "execution_count": 2,
   "metadata": {},
   "outputs": [],
   "source": [
    "def calculate_eigenvalues(matrix: list[list[float|int]]) -> list[float]:\n",
    "    a11, a12, a21, a22 = matrix[0][0], matrix[0][1], matrix[1][0], matrix[1][1]\n",
    "\n",
    "    # lambda**2 - (a11+a22)*lambda +(a11*a22)-(a)\n",
    "    # lambda = 1/2 [(a11+a22) \\pm sqrt( (a11+a22)**2 - 4(a11a22 - a12a21))]\n",
    "    a = 1 \n",
    "    b = -(a11 + a22)\n",
    "    c = a11 * a22 - a12 * a21\n",
    "    lambda_1 = 0.5 * (-b + (b**2 - 4 * a * c)**0.5)\n",
    "    lambda_2 = 0.5 * (-b - (b**2 - 4 * a * c)**0.5)\n",
    "    return [lambda_1, lambda_2]"
   ]
  },
  {
   "cell_type": "code",
   "execution_count": 4,
   "metadata": {},
   "outputs": [],
   "source": [
    "matrix = [[2, 1], [1, 2]]\n",
    "output = [3.0, 1.0]\n",
    "\n",
    "my_ouput = calculate_eigenvalues(matrix)\n",
    "assert output == my_ouput"
   ]
  },
  {
   "cell_type": "code",
   "execution_count": 5,
   "metadata": {},
   "outputs": [
    {
     "data": {
      "text/plain": [
       "array([3., 1.])"
      ]
     },
     "execution_count": 5,
     "metadata": {},
     "output_type": "execute_result"
    }
   ],
   "source": [
    "import numpy as np\n",
    "np.linalg.eigvals(matrix)"
   ]
  }
 ],
 "metadata": {
  "kernelspec": {
   "display_name": "Python 3",
   "language": "python",
   "name": "python3"
  },
  "language_info": {
   "codemirror_mode": {
    "name": "ipython",
    "version": 3
   },
   "file_extension": ".py",
   "mimetype": "text/x-python",
   "name": "python",
   "nbconvert_exporter": "python",
   "pygments_lexer": "ipython3",
   "version": "3.10.14"
  }
 },
 "nbformat": 4,
 "nbformat_minor": 2
}
