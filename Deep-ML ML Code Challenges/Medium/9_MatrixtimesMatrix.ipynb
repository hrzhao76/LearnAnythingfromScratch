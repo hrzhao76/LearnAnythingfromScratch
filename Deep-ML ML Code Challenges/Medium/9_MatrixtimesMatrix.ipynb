{
 "cells": [
  {
   "cell_type": "code",
   "execution_count": 59,
   "metadata": {},
   "outputs": [],
   "source": [
    "def matrixmul(a: list[list[int | float]],\n",
    "              b: list[list[int | float]]) -> list[list[int | float]]:\n",
    "    a_shape = (len(a), len(a[0]))\n",
    "    b_shape = (len(b), len(b[0]))\n",
    "    \n",
    "    # Check if the matrices can be multiplied\n",
    "    if a_shape[1] != b_shape[0]:\n",
    "        return -1  # Incompatible shapes for matrix multiplication\n",
    "    \n",
    "    # Initialize result matrix with the correct shape (m x p)\n",
    "    c = [\n",
    "        [\n",
    "            sum(a[i][k] * b[k][j] for k in range(a_shape[1])) \n",
    "            for j in range(b_shape[1])  # Use b_shape[1] for columns of b\n",
    "        ] \n",
    "        for i in range(a_shape[0])\n",
    "    ]\n",
    "    \n",
    "    return c\n"
   ]
  },
  {
   "cell_type": "code",
   "execution_count": 60,
   "metadata": {},
   "outputs": [],
   "source": [
    "A = [[1,2],[2,4]]\n",
    "B = [[2,1],[3,4]]\n",
    "output = [[ 8,  9],\n",
    "          [16, 18]]\n",
    "\n",
    "my_output = matrixmul(A,B)"
   ]
  },
  {
   "cell_type": "code",
   "execution_count": 66,
   "metadata": {},
   "outputs": [
    {
     "name": "stdout",
     "output_type": "stream",
     "text": [
      "[[[ 8  9]\n",
      "  [16 18]]]\n"
     ]
    }
   ],
   "source": [
    "import numpy as np\n",
    "\n",
    "np_output = np.array(A) @ np.array(B)\n",
    "print(np_output)\n",
    "assert np.allclose(output, np_output)"
   ]
  },
  {
   "cell_type": "code",
   "execution_count": null,
   "metadata": {},
   "outputs": [],
   "source": []
  }
 ],
 "metadata": {
  "kernelspec": {
   "display_name": "Python 3",
   "language": "python",
   "name": "python3"
  },
  "language_info": {
   "codemirror_mode": {
    "name": "ipython",
    "version": 3
   },
   "file_extension": ".py",
   "mimetype": "text/x-python",
   "name": "python",
   "nbconvert_exporter": "python",
   "pygments_lexer": "ipython3",
   "version": "3.10.14"
  }
 },
 "nbformat": 4,
 "nbformat_minor": 2
}
