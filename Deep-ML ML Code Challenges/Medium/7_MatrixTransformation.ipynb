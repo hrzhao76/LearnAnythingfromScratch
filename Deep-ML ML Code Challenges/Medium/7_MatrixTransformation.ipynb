{
 "cells": [
  {
   "cell_type": "code",
   "execution_count": 1,
   "metadata": {},
   "outputs": [],
   "source": [
    "import numpy as np\n",
    "\n",
    "def transform_matrix(A: list[list[int|float]], T: list[list[int|float]], S: list[list[int|float]]) -> list[list[int|float]]:\n",
    "    # The matrices T and S are used to transform matrix A by computing $T^{-1}AS$.\n",
    "\n",
    "    # Check if T and S are invertible\n",
    "    if np.linalg.det(T) == 0 or np.linalg.det(S) == 0:\n",
    "        return -1\n",
    "\n",
    "    transformed_matrix = np.linalg.inv(T) @ np.array(A) @ np.array(S)\n",
    "\n",
    "    return transformed_matrix.tolist()"
   ]
  },
  {
   "cell_type": "code",
   "execution_count": 2,
   "metadata": {},
   "outputs": [],
   "source": [
    "A = [[1, 2], [3, 4]]\n",
    "T = [[2, 0], [0, 2]] \n",
    "S = [[1, 1], [0, 1]]\n",
    "output = [[0.5,1.5],[1.5,3.5]]\n",
    "\n",
    "my_output = transform_matrix(A, T, S)"
   ]
  },
  {
   "cell_type": "code",
   "execution_count": 3,
   "metadata": {},
   "outputs": [
    {
     "data": {
      "text/plain": [
       "array([[0.5, 0. ],\n",
       "       [0. , 0.5]])"
      ]
     },
     "execution_count": 3,
     "metadata": {},
     "output_type": "execute_result"
    }
   ],
   "source": [
    "np.linalg.inv(T)"
   ]
  },
  {
   "cell_type": "code",
   "execution_count": null,
   "metadata": {},
   "outputs": [],
   "source": []
  }
 ],
 "metadata": {
  "kernelspec": {
   "display_name": "Python 3",
   "language": "python",
   "name": "python3"
  },
  "language_info": {
   "codemirror_mode": {
    "name": "ipython",
    "version": 3
   },
   "file_extension": ".py",
   "mimetype": "text/x-python",
   "name": "python",
   "nbconvert_exporter": "python",
   "pygments_lexer": "ipython3",
   "version": "3.10.14"
  }
 },
 "nbformat": 4,
 "nbformat_minor": 2
}
