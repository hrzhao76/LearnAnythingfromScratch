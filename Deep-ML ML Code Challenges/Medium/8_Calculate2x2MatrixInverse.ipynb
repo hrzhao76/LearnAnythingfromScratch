{
 "cells": [
  {
   "cell_type": "code",
   "execution_count": 2,
   "metadata": {},
   "outputs": [],
   "source": [
    "def inverse_2x2(matrix: list[list[float]]) -> list[list[float]]:\n",
    "    a, b, c, d = matrix[0][0], matrix[0][1], matrix[1][0], matrix[1][1]\n",
    "    det = a * d - c * b\n",
    "    if det == 0:\n",
    "        return None\n",
    "    \n",
    "    inverse = [\n",
    "        [d/det, -b/det], \n",
    "        [-c/det, a/det]\n",
    "    ]\n",
    "    \n",
    "    return inverse"
   ]
  },
  {
   "cell_type": "code",
   "execution_count": 4,
   "metadata": {},
   "outputs": [
    {
     "name": "stdout",
     "output_type": "stream",
     "text": [
      "[[0.6, -0.7], [-0.2, 0.4]]\n"
     ]
    }
   ],
   "source": [
    "matrix = [[4, 7], [2, 6]]\n",
    "output = [[0.6, -0.7], [-0.2, 0.4]] \n",
    "\n",
    "my_output = inverse_2x2(matrix)\n",
    "print(my_output)\n",
    "\n",
    "assert output == my_output"
   ]
  },
  {
   "cell_type": "code",
   "execution_count": 9,
   "metadata": {},
   "outputs": [
    {
     "name": "stdout",
     "output_type": "stream",
     "text": [
      "[[ 0.6 -0.7]\n",
      " [-0.2  0.4]]\n"
     ]
    }
   ],
   "source": [
    "import numpy as np\n",
    "\n",
    "np_output = np.linalg.inv(matrix)\n",
    "print(np_output)\n",
    "\n",
    "assert np.allclose(output, np_output)"
   ]
  },
  {
   "cell_type": "code",
   "execution_count": 8,
   "metadata": {},
   "outputs": [
    {
     "data": {
      "text/plain": [
       "[[0.6000000000000001, -0.7000000000000001], [-0.2, 0.4]]"
      ]
     },
     "execution_count": 8,
     "metadata": {},
     "output_type": "execute_result"
    }
   ],
   "source": [
    "np_output.tolist()"
   ]
  },
  {
   "cell_type": "code",
   "execution_count": null,
   "metadata": {},
   "outputs": [],
   "source": []
  }
 ],
 "metadata": {
  "kernelspec": {
   "display_name": "Python 3",
   "language": "python",
   "name": "python3"
  },
  "language_info": {
   "codemirror_mode": {
    "name": "ipython",
    "version": 3
   },
   "file_extension": ".py",
   "mimetype": "text/x-python",
   "name": "python",
   "nbconvert_exporter": "python",
   "pygments_lexer": "ipython3",
   "version": "3.10.14"
  }
 },
 "nbformat": 4,
 "nbformat_minor": 2
}
