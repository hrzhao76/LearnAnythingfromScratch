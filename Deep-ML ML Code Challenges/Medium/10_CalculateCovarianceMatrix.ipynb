{
 "cells": [
  {
   "cell_type": "markdown",
   "metadata": {},
   "source": [
    "Covariance (Cov) formula:\n",
    "\n",
    "$$\n",
    "\\text{Cov}(X, Y) = \\frac{\\sum_{i=1}^{N} (X_i - \\bar{X})(Y_i - \\bar{Y})}{N - 1}\n",
    "$$\n",
    "\n",
    "Where:\n",
    "- \\( X \\) and \\( Y \\) are two random variables.\n",
    "- \\( N \\) is the number of samples.\n",
    "- \\( X_i \\) and \\( Y_i \\) are the \\( i \\)-th values of \\( X \\) and \\( Y \\).\n",
    "- \\( \\bar{X} \\) and \\( \\bar{Y} \\) are the means of \\( X \\) and \\( Y \\), respectively.\n"
   ]
  },
  {
   "cell_type": "code",
   "execution_count": 1,
   "metadata": {},
   "outputs": [],
   "source": [
    "def calculate_covariance_matrix(vectors: list[list[float]]) -> list[list[float]]:\n",
    "    n_features = len(vectors)\n",
    "    n_points = len(vectors[0])\n",
    "    \n",
    "    feature_mean = []\n",
    "    for feature in vectors:\n",
    "        feature_mean.append(sum(feature)/n_points)\n",
    "    \n",
    "    vectors_sub_mean = []\n",
    "    for i in range(n_features):\n",
    "        vector_sub_mean = []\n",
    "        for j in range(n_points):\n",
    "            vector_sub_mean.append(vectors[i][j] - feature_mean[i])\n",
    "            \n",
    "        vectors_sub_mean.append(vector_sub_mean)\n",
    "    \n",
    "    covariance_matrix = []\n",
    "    for i in range(n_features):\n",
    "        covariance_matrix.append([])\n",
    "        for j in range(n_features):\n",
    "            _sum = 0\n",
    "            for k in range(n_points):\n",
    "                _sum += vectors_sub_mean[i][k] * vectors_sub_mean[j][k]\n",
    "            covariance_matrix[i].append(_sum / (n_points-1))\n",
    "            \n",
    "    return covariance_matrix"
   ]
  },
  {
   "cell_type": "code",
   "execution_count": 2,
   "metadata": {},
   "outputs": [],
   "source": [
    "vectors = [[1, 2, 3], [4, 5, 6]]\n",
    "output = [[1.0, 1.0], [1.0, 1.0]]\n",
    "\n",
    "my_output = calculate_covariance_matrix(vectors)\n",
    "assert output == my_output"
   ]
  },
  {
   "cell_type": "code",
   "execution_count": 3,
   "metadata": {},
   "outputs": [],
   "source": [
    "# Optimized version \n",
    "def calculate_covariance_matrix(vectors: list[list[float]]) -> list[list[float]]:\n",
    "    n_features = len(vectors)\n",
    "    n_points = len(vectors[0])\n",
    "    \n",
    "    feature_mean = [sum(feature) / n_points for feature in vectors]\n",
    "    \n",
    "    vectors_sub_mean = [\n",
    "        [vectors[i][j] - feature_mean[i] for j in range(n_points)] for i in range(n_features)\n",
    "    ]\n",
    "    \n",
    "    covariance_matrix = [\n",
    "        [\n",
    "            sum(vectors_sub_mean[i][k] * vectors_sub_mean[j][k] for k in range(n_points)) / (n_points - 1)\n",
    "            for j in range(n_features)\n",
    "        ]\n",
    "        for i in range(n_features)\n",
    "    ]\n",
    "\n",
    "    return covariance_matrix"
   ]
  },
  {
   "cell_type": "code",
   "execution_count": 4,
   "metadata": {},
   "outputs": [],
   "source": [
    "my_output = calculate_covariance_matrix(vectors)\n",
    "assert output == my_output"
   ]
  },
  {
   "cell_type": "markdown",
   "metadata": {},
   "source": [
    "# Numpy check"
   ]
  },
  {
   "cell_type": "code",
   "execution_count": 5,
   "metadata": {},
   "outputs": [],
   "source": [
    "import numpy as np\n",
    "\n",
    "np_output = np.cov(vectors)\n",
    "assert np.allclose(output, np_output)"
   ]
  }
 ],
 "metadata": {
  "kernelspec": {
   "display_name": "Python 3",
   "language": "python",
   "name": "python3"
  },
  "language_info": {
   "codemirror_mode": {
    "name": "ipython",
    "version": 3
   },
   "file_extension": ".py",
   "mimetype": "text/x-python",
   "name": "python",
   "nbconvert_exporter": "python",
   "pygments_lexer": "ipython3",
   "version": "3.10.14"
  }
 },
 "nbformat": 4,
 "nbformat_minor": 2
}
