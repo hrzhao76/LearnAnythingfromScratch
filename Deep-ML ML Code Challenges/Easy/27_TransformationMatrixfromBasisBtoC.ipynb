{
 "cells": [
  {
   "cell_type": "code",
   "execution_count": 1,
   "metadata": {},
   "outputs": [],
   "source": [
    "def transform_basis(B: list[list[int]], C: list[list[int]]) -> list[list[float]]:\n",
    "\timport numpy as np \n",
    "\tB = np.array(B)\n",
    "\tC = np.array(C)\n",
    "\tC_inv = np.linalg.inv(C)\n",
    "\tP = C_inv @ B\n",
    "\treturn P"
   ]
  },
  {
   "cell_type": "code",
   "execution_count": 2,
   "metadata": {},
   "outputs": [],
   "source": [
    "B = [[1, 0, 0], \n",
    "    [0, 1, 0], \n",
    "    [0, 0, 1]]\n",
    "C = [[1, 2.3, 3], \n",
    "    [4.4, 25, 6], \n",
    "    [7.4, 8, 9]]\n",
    "\n",
    "output= [[-0.6772, -0.0126, 0.2342],\n",
    "        [-0.0184, 0.0505, -0.0275],\n",
    "        [0.5732, -0.0345, -0.0569]]\n",
    "\n",
    "my_output = transform_basis(B, C)\n",
    "\n",
    "import numpy as np\n",
    "\n",
    "assert np.allclose(output, my_output.tolist(), atol=1e-4)"
   ]
  },
  {
   "cell_type": "markdown",
   "metadata": {},
   "source": [
    "# SciPy Check"
   ]
  },
  {
   "cell_type": "code",
   "execution_count": 3,
   "metadata": {},
   "outputs": [
    {
     "name": "stdout",
     "output_type": "stream",
     "text": [
      "[[-0.67722681 -0.01262626  0.23415978]\n",
      " [-0.01836547  0.05050505 -0.02754821]\n",
      " [ 0.5731558  -0.03451178 -0.05693297]]\n"
     ]
    }
   ],
   "source": [
    "from scipy import linalg\n",
    "scipy_ouput = linalg.solve(C, B)\n",
    "print(scipy_ouput)\n",
    "\n",
    "assert np.allclose(output, scipy_ouput, atol=1e-4)"
   ]
  }
 ],
 "metadata": {
  "kernelspec": {
   "display_name": "Python 3",
   "language": "python",
   "name": "python3"
  },
  "language_info": {
   "codemirror_mode": {
    "name": "ipython",
    "version": 3
   },
   "file_extension": ".py",
   "mimetype": "text/x-python",
   "name": "python",
   "nbconvert_exporter": "python",
   "pygments_lexer": "ipython3",
   "version": "3.10.14"
  }
 },
 "nbformat": 4,
 "nbformat_minor": 2
}
