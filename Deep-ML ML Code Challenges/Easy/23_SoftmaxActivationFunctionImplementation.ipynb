{
 "cells": [
  {
   "cell_type": "code",
   "execution_count": 1,
   "metadata": {},
   "outputs": [],
   "source": [
    "import math\n",
    "\n",
    "def softmax(scores: list[float]) -> list[float]:\n",
    "    # Your code here\n",
    "    exp_scores = [math.exp(score) for score in scores]\n",
    "    sum_exp_scores = sum(exp_scores)\n",
    "    probabilities = [round(exp_score / sum_exp_scores, 4) for exp_score in exp_scores]\n",
    "    return probabilities"
   ]
  },
  {
   "cell_type": "code",
   "execution_count": 2,
   "metadata": {},
   "outputs": [],
   "source": [
    "scores = [1, 2, 3]\n",
    "output = [0.0900, 0.2447, 0.6652]\n",
    "my_output = softmax(scores)\n",
    "\n",
    "assert output == my_output "
   ]
  },
  {
   "cell_type": "markdown",
   "metadata": {},
   "source": [
    "# PyTorch check"
   ]
  },
  {
   "cell_type": "code",
   "execution_count": 4,
   "metadata": {},
   "outputs": [
    {
     "name": "stdout",
     "output_type": "stream",
     "text": [
      "tensor([0.0900, 0.2447, 0.6652])\n"
     ]
    }
   ],
   "source": [
    "import torch\n",
    "import torch.nn.functional as F\n",
    "import numpy as np\n",
    "\n",
    "# m = torch.nn.Softmax(dim=0)\n",
    "# torch_output = m(torch.tensor(scores).float())\n",
    "# print(torch_output)\n",
    "torch_output = F.softmax(torch.tensor(scores).float(), dim=0)\n",
    "print(torch_output)\n",
    "\n",
    "assert np.allclose(output, torch_output.numpy(), atol=1e-4)"
   ]
  },
  {
   "cell_type": "code",
   "execution_count": null,
   "metadata": {},
   "outputs": [],
   "source": []
  }
 ],
 "metadata": {
  "kernelspec": {
   "display_name": "Python 3",
   "language": "python",
   "name": "python3"
  },
  "language_info": {
   "codemirror_mode": {
    "name": "ipython",
    "version": 3
   },
   "file_extension": ".py",
   "mimetype": "text/x-python",
   "name": "python",
   "nbconvert_exporter": "python",
   "pygments_lexer": "ipython3",
   "version": "3.10.14"
  }
 },
 "nbformat": 4,
 "nbformat_minor": 2
}
