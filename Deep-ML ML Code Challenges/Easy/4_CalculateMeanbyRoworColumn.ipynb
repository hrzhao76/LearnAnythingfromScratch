{
 "cells": [
  {
   "cell_type": "code",
   "execution_count": 8,
   "metadata": {},
   "outputs": [],
   "source": [
    "def calculate_matrix_mean(matrix: list[list[float]], mode: str) -> list[float]:\n",
    "    n_row, n_col = len(matrix), len(matrix[0])\n",
    "    if mode == 'column':\n",
    "        means = [\n",
    "            sum(matrix[i][j] for i in range(n_row)) / n_row\n",
    "            for j in range(n_col)\n",
    "        ]\n",
    "\n",
    "        # [sum(col) / len(matrix) for col in zip(*matrix)]\n",
    "    elif mode == 'row':\n",
    "        means = [\n",
    "            sum(matrix[i][j] for j in range(n_col)) / n_col\n",
    "            for i in range(n_row) \n",
    "        ]\n",
    "    else:\n",
    "        raise ValueError(f\"Mode {mode} invalid!\")\n",
    "    return means"
   ]
  },
  {
   "cell_type": "code",
   "execution_count": 9,
   "metadata": {},
   "outputs": [],
   "source": [
    "matrix = [[1, 2, 3], [4, 5, 6], [7, 8, 9]]\n",
    "mode = 'column'\n",
    "output = [4.0, 5.0, 6.0]\n",
    "\n",
    "my_output = calculate_matrix_mean(matrix, mode)\n",
    "assert output == my_output"
   ]
  },
  {
   "cell_type": "code",
   "execution_count": 10,
   "metadata": {},
   "outputs": [],
   "source": [
    "matrix = [[1, 2, 3], [4, 5, 6], [7, 8, 9]]\n",
    "mode = 'row'\n",
    "output = [2.0, 5.0, 8.0]\n",
    "\n",
    "my_output = calculate_matrix_mean(matrix, mode)\n",
    "assert output == my_output"
   ]
  },
  {
   "cell_type": "code",
   "execution_count": 14,
   "metadata": {},
   "outputs": [
    {
     "name": "stdout",
     "output_type": "stream",
     "text": [
      "[4. 5. 6.]\n",
      "[2. 5. 8.]\n"
     ]
    }
   ],
   "source": [
    "import numpy as np\n",
    "\n",
    "# sum by col (along the first dim, which is along col) \n",
    "print(np.array(matrix).mean(axis=0))\n",
    "\n",
    "# sum by row (along the second dim, which is along row) \n",
    "print(np.array(matrix).mean(axis=1))\n"
   ]
  },
  {
   "cell_type": "code",
   "execution_count": 15,
   "metadata": {},
   "outputs": [
    {
     "data": {
      "text/plain": [
       "array([[1, 2, 3],\n",
       "       [4, 5, 6],\n",
       "       [7, 8, 9]])"
      ]
     },
     "execution_count": 15,
     "metadata": {},
     "output_type": "execute_result"
    }
   ],
   "source": [
    "np.array(matrix)"
   ]
  }
 ],
 "metadata": {
  "kernelspec": {
   "display_name": "Python 3",
   "language": "python",
   "name": "python3"
  },
  "language_info": {
   "codemirror_mode": {
    "name": "ipython",
    "version": 3
   },
   "file_extension": ".py",
   "mimetype": "text/x-python",
   "name": "python",
   "nbconvert_exporter": "python",
   "pygments_lexer": "ipython3",
   "version": "3.10.14"
  }
 },
 "nbformat": 4,
 "nbformat_minor": 2
}
