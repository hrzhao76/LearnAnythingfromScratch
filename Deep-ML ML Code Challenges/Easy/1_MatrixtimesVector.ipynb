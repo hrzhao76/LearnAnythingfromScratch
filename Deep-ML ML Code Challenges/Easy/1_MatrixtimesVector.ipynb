{
 "cells": [
  {
   "cell_type": "code",
   "execution_count": 1,
   "metadata": {},
   "outputs": [],
   "source": [
    "def matrix_dot_vector(a:list[list[int|float]],b:list[int|float])-> list[int|float]:\n",
    "    if len(a) == 0 or len(b) == 0:\n",
    "        return -1\n",
    "    shape_a = len(a), len(a[0])\n",
    "    shape_b = len(b)\n",
    "    \n",
    "    if shape_a[1] != shape_b:\n",
    "        return -1 \n",
    "    \n",
    "    c = []\n",
    "    for i in range(shape_a[0]):\n",
    "        vector_sum = 0\n",
    "        for j in range(shape_a[1]):\n",
    "            vector_sum += a[i][j] * b[j]\n",
    "        c.append(vector_sum)\n",
    "    return c"
   ]
  },
  {
   "cell_type": "code",
   "execution_count": 2,
   "metadata": {},
   "outputs": [],
   "source": [
    "a = [[1,2],[2,4]] \n",
    "b = [1,2]\n",
    "output = [5, 10]\n",
    "my_output = matrix_dot_vector(a, b)\n",
    "\n",
    "assert output == my_output"
   ]
  },
  {
   "cell_type": "markdown",
   "metadata": {},
   "source": [
    "# Numpy check"
   ]
  },
  {
   "cell_type": "code",
   "execution_count": 6,
   "metadata": {},
   "outputs": [],
   "source": [
    "import numpy as np \n",
    "\n",
    "np_output = np.array(a) @ np.array(b)\n",
    "\n",
    "assert output == np_output.tolist()"
   ]
  }
 ],
 "metadata": {
  "kernelspec": {
   "display_name": "Python 3",
   "language": "python",
   "name": "python3"
  },
  "language_info": {
   "codemirror_mode": {
    "name": "ipython",
    "version": 3
   },
   "file_extension": ".py",
   "mimetype": "text/x-python",
   "name": "python",
   "nbconvert_exporter": "python",
   "pygments_lexer": "ipython3",
   "version": "3.10.14"
  }
 },
 "nbformat": 4,
 "nbformat_minor": 2
}
